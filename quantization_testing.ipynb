{
 "cells": [
  {
   "cell_type": "code",
   "execution_count": 56,
   "metadata": {},
   "outputs": [],
   "source": [
    "from abc import ABC, abstractmethod\n",
    "import numpy as np\n",
    "import struct\n",
    "from typing import Tuple\n",
    "from bitarray import bitarray\n",
    "from src.compressors.compressor import Compressor\n",
    "\n",
    "import pandas as pd\n",
    "\n",
    "import torch\n",
    "from tqdm import tqdm\n",
    "from load_dataset import Dataset\n",
    "import os\n",
    "\n",
    "import time\n",
    "# import matplotlib.pyplot as plt\n",
    "# from PIL import Image\n",
    "import cv2\n",
    "import sys\n",
    "from datetime import datetime\n",
    "\n",
    "\n",
    "import math\n",
    "from src.compressors.compressor import Compressor\n",
    "import struct\n",
    "\n",
    "\n",
    "from bitarray import bitarray\n",
    "from bitarray.util import int2ba, ba2int"
   ]
  },
  {
   "cell_type": "code",
   "execution_count": 57,
   "metadata": {},
   "outputs": [
    {
     "name": "stdout",
     "output_type": "stream",
     "text": [
      "Starting up Julia.\n",
      "Finished starting up Julia.\n"
     ]
    }
   ],
   "source": [
    "import struct\n",
    "from typing import Tuple\n",
    "from bitarray import bitarray\n",
    "from src.compressors.compressor import Compressor\n",
    "import numpy as np\n",
    "print(\"Starting up Julia.\")\n",
    "from julia.api import Julia\n",
    "jl = Julia(compiled_modules=True)\n",
    "from julia import Main\n",
    "Main.eval(\"using Random; Random.seed!(0)\")\n",
    "# Main.include(\"src/compressors/fp8.jl\")\n",
    "# Main.include(\"E:\\MS_Thesis\\Hierarchical_quantization\\FedPAQ-MNIST-implemenation-main\\LinLog_Quantization\\LinLogQuantization.jl\")\n",
    "Main.include(\"E:/MS_Thesis/Hierarchical_quantization/FedPAQ-MNIST-implemenation-main/LinLog_Quantization/LinLogQuantization.jl\")\n",
    "Main.eval('using .LinLogQuantization')  # Use the module\n",
    "print(\"Finished starting up Julia.\")\n"
   ]
  },
  {
   "cell_type": "code",
   "execution_count": 58,
   "metadata": {},
   "outputs": [
    {
     "name": "stdout",
     "output_type": "stream",
     "text": [
      "Before Quantized array: [150, 180, 10, 24, 19, 132, 157, 194, 110, 252, 255, 65, 0, 123, 240, 100]\n",
      "Original array: [0.5608718  0.66554254 0.07572268 0.12403987 0.10915419 0.50017035\n",
      " 0.5847847  0.71386635 0.4236727  0.91628206 0.9258732  0.26889813\n",
      " 0.04240571 0.468164   0.8752635  0.3900149 ]\n",
      "Arr size: 168\n",
      "LLquant size: 120\n",
      "Quantized array: [150 180  10  24  19 132 157 194 110 252 255  65   0 123 240 100]\n"
     ]
    }
   ],
   "source": [
    "\n",
    "Main.eval('include(\"E:/MS_Thesis/Hierarchical_quantization/FedPAQ-MNIST-implemenation-main/LinLog_Quantization/LinLogQuantization.jl\")')\n",
    "Main.eval('using .LinLogQuantization') \n",
    "arr = list(np.random.rand(1,16).flatten())\n",
    "arr = np.array(arr, dtype = np.float32)\n",
    "LLquant=Main.LinLogQuantization.LinQuant8Array(arr)\n",
    "print(\"Before Quantized array:\", LLquant)\n",
    "LLquant = np.array(LLquant, dtype = np.uint8)\n",
    "# type(LLquant)\n",
    "\n",
    "print(\"Original array:\", arr)\n",
    "print(\"Arr size:\", sys.getsizeof(arr))\n",
    "print(\"LLquant size:\", sys.getsizeof(LLquant))\n",
    "print(\"Quantized array:\", LLquant)"
   ]
  },
  {
   "cell_type": "code",
   "execution_count": 59,
   "metadata": {},
   "outputs": [
    {
     "name": "stdout",
     "output_type": "stream",
     "text": [
      "Original array: [0.94599295 0.43729788 0.87890714 0.8318864  0.05353928 0.75466585\n",
      " 0.13506755 0.21353501 0.14553858 0.6138739  0.29984212 0.3403103\n",
      " 0.6379253  0.08151774 0.9205873  0.39289764]\n",
      "decode [0.94599295 0.43729788 0.87890714 0.8318864  0.05353928 0.75466585\n",
      " 0.13506755 0.21353501 0.14553858 0.6138739  0.29984212 0.3403103\n",
      " 0.6379253  0.08151774 0.9205873  0.39289764]\n",
      "Quantized array: [255, 110, 236, 222, 0, 200, 23, 46, 26, 160, 70, 82, 167, 8, 248, 97]\n"
     ]
    }
   ],
   "source": [
    "arr = np.random.rand(1, 16).flatten().astype(np.float32)\n",
    "\n",
    "print(\"Original array:\", arr)\n",
    "# Ensure the array is converted to a Julia array\n",
    "julia_arr = Main.eval(\"Array{Float32}\")(arr.tolist())\n",
    "LLquant = Main.eval(\"LinLogQuantization.LinQuant8Array\")(julia_arr)\n",
    "print('decode', julia_arr)\n",
    "print(\"Quantized array:\", LLquant)"
   ]
  },
  {
   "cell_type": "code",
   "execution_count": 25,
   "metadata": {},
   "outputs": [
    {
     "name": "stdout",
     "output_type": "stream",
     "text": [
      "Original array: [0.12619264 0.90614927 0.5356075  0.2161181  0.5300986  0.71093106\n",
      " 0.21429557 0.06450099 0.91872215 0.15415204]\n",
      "Type of LLquant:  <class 'list'>\n",
      "Error during quantization: <PyCall.jlwrap (in a Julia function called from Python)\n",
      "JULIA: MethodError: no method matching Array(::PyObject, ::Vector{Int64})\n",
      "Stacktrace:\n",
      " [1] invokelatest(::Any, ::Any, ::Vararg{Any}; kwargs::@Kwargs{})\n",
      "   @ Base .\\essentials.jl:892\n",
      " [2] invokelatest(::Any, ::Any, ::Vararg{Any})\n",
      "   @ Base .\\essentials.jl:889\n",
      " [3] _pyjlwrap_call(f::Type, args_::Ptr{PyCall.PyObject_struct}, kw_::Ptr{PyCall.PyObject_struct})\n",
      "   @ PyCall C:\\Users\\Asus\\.julia\\packages\\PyCall\\1gn3u\\src\\callback.jl:28\n",
      " [4] pyjlwrap_call(self_::Ptr{PyCall.PyObject_struct}, args_::Ptr{PyCall.PyObject_struct}, kw_::Ptr{PyCall.PyObject_struct})\n",
      "   @ PyCall C:\\Users\\Asus\\.julia\\packages\\PyCall\\1gn3u\\src\\callback.jl:44>\n"
     ]
    }
   ],
   "source": [
    "# Prepare data\n",
    "arr = np.random.rand(10).astype(np.float32)  # Example data\n",
    "print(\"Original array:\", arr)\n",
    "\n",
    "# Quantize using Julia\n",
    "try:\n",
    "    LLquant = Main.LinQuant8Array(arr)\n",
    "    # Access the UInt8 array, min, and max from LinQuantArray\n",
    "    print(\"Type of LLquant: \", type(LLquant))\n",
    "    # quantized_data = LLquant.A\n",
    "    # quant_min = LLquant.min\n",
    "    # quant_max = LLquant.max\n",
    "    # print(\"Quantized array data (sample):\", quantized_data[:10])\n",
    "    # print(\"Min value:\", quant_min, \"Max value:\", quant_max)\n",
    "\n",
    "    # Optional: Convert back to floating-point array to check correctness\n",
    "    dequantized = np.array(Main.Array(float, LLquant))\n",
    "    print(\"Dequantized array (sample):\", dequantized[:10])\n",
    "\n",
    "except Exception as e:\n",
    "    print(\"Error during quantization:\", str(e))"
   ]
  },
  {
   "cell_type": "code",
   "execution_count": 26,
   "metadata": {},
   "outputs": [
    {
     "data": {
      "text/plain": [
       "10"
      ]
     },
     "execution_count": 26,
     "metadata": {},
     "output_type": "execute_result"
    }
   ],
   "source": [
    "len(LLquant)"
   ]
  },
  {
   "cell_type": "code",
   "execution_count": 27,
   "metadata": {},
   "outputs": [
    {
     "name": "stdout",
     "output_type": "stream",
     "text": [
      "Original array: [[0.5513071  0.7800149  0.391558   ... 0.5638647  0.40836063 0.37028798]\n",
      " [0.32043433 0.04923544 0.460503   ... 0.46973234 0.61585003 0.7816345 ]\n",
      " [0.21508895 0.02305379 0.13235116 ... 0.10851511 0.67713124 0.9373543 ]\n",
      " ...\n",
      " [0.4302368  0.628929   0.73877317 ... 0.13640527 0.5338045  0.18064994]\n",
      " [0.6407786  0.75409865 0.2957243  ... 0.5880993  0.46677697 0.09806935]\n",
      " [0.4912676  0.5642917  0.95530754 ... 0.03661932 0.4552135  0.15295082]]\n",
      "Type of LLquant: <class 'list'>\n",
      "Error during quantization: 'list' object has no attribute 'A'\n"
     ]
    }
   ],
   "source": [
    "arr = np.random.rand(100, 100).astype(np.float32)  # Example data\n",
    "print(\"Original array:\", arr)\n",
    "\n",
    "# Quantize using Julia\n",
    "try:\n",
    "    LLquant_list = Main.LinQuant8Array(arr)\n",
    "    print(\"Type of LLquant:\", type(LLquant_list))  # Should print <class 'list'>\n",
    "\n",
    "    # Access elements if it's indeed a list of LinQuantArray\n",
    "    for idx, LLquant in enumerate(LLquant_list):\n",
    "        quantized_data = LLquant.A\n",
    "        quant_min = LLquant.min\n",
    "        quant_max = LLquant.max\n",
    "        print(f\"Quantized array data (sample) for element {idx}:\", quantized_data[:10])\n",
    "        print(\"Min value:\", quant_min, \"Max value:\", quant_max)\n",
    "\n",
    "        # Optional: Convert back to floating-point array to check correctness\n",
    "        dequantized = np.array(Main.Array(float, LLquant))\n",
    "        print(f\"Dequantized array (sample) for element {idx}:\", dequantized[:10])\n",
    "\n",
    "except Exception as e:\n",
    "    print(\"Error during quantization:\", str(e))"
   ]
  },
  {
   "cell_type": "code",
   "execution_count": 28,
   "metadata": {},
   "outputs": [
    {
     "data": {
      "text/plain": [
       "100"
      ]
     },
     "execution_count": 28,
     "metadata": {},
     "output_type": "execute_result"
    }
   ],
   "source": [
    "len(LLquant_list)"
   ]
  },
  {
   "cell_type": "code",
   "execution_count": 29,
   "metadata": {},
   "outputs": [],
   "source": [
    "    # export  LinQuantArray, LogQuantArray,\n",
    "    # LinQuant8Array, LinQuant16Array, LinQuant24Array, LinQuant32Array,\n",
    "    # LogQuant8Array, LogQuant16Array, LogQuant24Array, LogQuant32Array,\n",
    "    # minpos"
   ]
  },
  {
   "cell_type": "code",
   "execution_count": 30,
   "metadata": {},
   "outputs": [],
   "source": [
    "from abc import ABC, abstractmethod\n",
    "import numpy as np\n",
    "\n",
    "class Compressor(ABC):\n",
    "    @abstractmethod\n",
    "    def encode(self, array: np.ndarray) -> bytes:\n",
    "        pass\n",
    "    @abstractmethod\n",
    "    def decode(self, array: bytes) -> np.ndarray:\n",
    "        pass"
   ]
  },
  {
   "cell_type": "code",
   "execution_count": null,
   "metadata": {},
   "outputs": [],
   "source": []
  },
  {
   "cell_type": "markdown",
   "metadata": {},
   "source": [
    "# With Class"
   ]
  },
  {
   "cell_type": "code",
   "execution_count": 31,
   "metadata": {},
   "outputs": [
    {
     "name": "stdout",
     "output_type": "stream",
     "text": [
      "Initializing Julia integration.\n",
      "Julia module loaded successfully.\n"
     ]
    }
   ],
   "source": [
    "import numpy as np\n",
    "from src.compressors.compressor import Compressor\n",
    "print(\"Initializing Julia integration.\")\n",
    "from julia.api import Julia\n",
    "jl = Julia(compiled_modules=False)\n",
    "from julia import Main\n",
    "Main.eval(\"using Random; Random.seed!(0)\")\n",
    "# Main.include(\"E:/MS_Thesis/Hierarchical_quantization/FedPAQ-MNIST-implemenation-main/src/compressors/linquantarrays.jl\")\n",
    "# Main.include(\"E:/MS_Thesis/Hierarchical_quantization/FedPAQ-MNIST-implemenation-main/LinLog_Quantization/LinLogQuantization.jl\")\n",
    "Main.include(\"E:/MS_Thesis/Hierarchical_quantization/FedPAQ-MNIST-implemenation-main/src/compressors/linquantarrays.jl\")\n",
    "\n",
    "print(\"Julia module loaded successfully.\")"
   ]
  },
  {
   "cell_type": "code",
   "execution_count": null,
   "metadata": {},
   "outputs": [],
   "source": []
  },
  {
   "cell_type": "code",
   "execution_count": 39,
   "metadata": {},
   "outputs": [],
   "source": [
    "\n",
    "\n",
    "class LinQuantArrays(Compressor):\n",
    "    def __init__(self):\n",
    "        pass\n",
    "\n",
    "    def encode(self, array: np.ndarray, dtype: np.dtype = np.uint8) -> bytes:\n",
    "        \"\"\"Quantizes the numpy array using the specified unsigned integer dtype and returns the encoded bytes.\"\"\"\n",
    "        assert len(array.shape) == 1  # Ensure it's a 1D array\n",
    "        assert array.dtype == np.float32 or array.dtype == np.float64, \"Array must be of type float32 or float64\"\n",
    "        \n",
    "        # Mapping numpy dtype to Julia UInt type\n",
    "        julia_dtype = {np.uint8: 'UInt8', np.uint16: 'UInt16', np.uint32: 'UInt32', np.uint64: 'UInt64'}[dtype]\n",
    "        julia_type = Main.eval(julia_dtype)\n",
    "        # Calling the Julia function to perform quantization\n",
    "        result = Main.LinQuantization(julia_type, array)\n",
    "        return result, bytes(result)  # Access the UInt array and convert to bytes\n",
    "\n",
    "\n",
    "    # def encode(self, array: np.ndarray, dtype: np.dtype = np.uint8):\n",
    "    #     \"\"\"Quantizes the numpy array using the specified unsigned integer dtype and returns the encoded bytes along with min and max.\"\"\"\n",
    "    #     assert len(array.shape) == 1  # Ensure it's a 1D array\n",
    "    #     assert array.dtype in [np.float32, np.float64], \"Array must be of type float32 or float64\"\n",
    "        \n",
    "    #     # Mapping numpy dtype to Julia UInt type\n",
    "    #     julia_dtype = {np.uint8: 'UInt8', np.uint16: 'UInt16', np.uint32: 'UInt32', np.uint64: 'UInt64'}[dtype]\n",
    "    #     julia_type = Main.eval(julia_dtype)\n",
    "        \n",
    "    #     # Call the Julia function to perform quantization and directly access struct fields\n",
    "    #     quantized_data = Main.eval(f\"LinQuantization({julia_type}, {array.tolist()})\")\n",
    "    #     min_val = Main.eval(f\"LinQuantization({julia_type}, {array.tolist()}).min\")\n",
    "    #     max_val = Main.eval(f\"LinQuantization({julia_type}, {array.tolist()}).max\")\n",
    "        \n",
    "    #     # Convert quantized data to bytes and return\n",
    "    #     return bytes(quantized_data), min_val, max_val\n",
    "\n",
    "    def decode(self, data: bytes, dtype: np.dtype, shape: tuple) -> np.ndarray:\n",
    "        \"\"\"Reconstructs the numpy array from the quantized data.\"\"\"\n",
    "        assert dtype in [np.uint8, np.uint16, np.uint32, np.uint64], \"dtype must be an unsigned integer type\"\n",
    "        \n",
    "        # Convert bytes back to numpy array of the appropriate dtype\n",
    "        quant_array = np.frombuffer(data, dtype=dtype).reshape(shape)\n",
    "        \n",
    "        # Mapping numpy dtype to Julia UInt type\n",
    "        julia_dtype = {np.uint8: 'UInt8', np.uint16: 'UInt16', np.uint32: 'UInt32', np.uint64: 'UInt64'}[dtype]\n",
    "        \n",
    "        # Create a fake LinQuantArray structure expected by Julia for dequantization\n",
    "        # Main.eval(f\"\"\"\n",
    "        # struct LinQuantArray{T,N} <: AbstractArray{{Unsigned,N}}\n",
    "        #     A::Array{{T,N}}\n",
    "        #     min::Float64\n",
    "        #     max::Float64\n",
    "        # end\n",
    "        # \"\"\")\n",
    "        julia_type = Main.eval(julia_dtype)\n",
    "\n",
    "        \n",
    "\n",
    "        Main.eval(f\"\"\"\n",
    "        struct LinQuantArray{{T, N}} <: AbstractArray{{Unsigned, N}}\n",
    "            A::Array{{T, N}}\n",
    "            min::Float64\n",
    "            max::Float64\n",
    "        end\n",
    "        \"\"\")\n",
    "\n",
    "        dummy_min, dummy_max = 0.0, 1.0\n",
    "        Main.eval(f\"q_array = LinQuantArray{{{julia_type}, 1}}(reshape({quant_array.tolist()}, {shape}), {dummy_min}, {dummy_max})\")        \n",
    "        \n",
    "        \n",
    "        \n",
    "        # # Call the dequantization function\n",
    "        result = Main.Array(julia_type, Main.q_array)\n",
    "        return result"
   ]
  },
  {
   "cell_type": "code",
   "execution_count": 40,
   "metadata": {},
   "outputs": [
    {
     "name": "stdout",
     "output_type": "stream",
     "text": [
      "Original array: [0.5848807  0.5846372  0.22117455 0.875293   0.13118872 0.6605228\n",
      " 0.51365334 0.07956224 0.09270971 0.424567   0.3399181  0.61007863\n",
      " 0.6623791  0.41715723 0.49276868 0.29014704]\n",
      "Arr size: 232\n",
      "Encoded array: b'\\xa2\\xa2-\\xff\\x11\\xba\\x8b\\x00\\x04oS\\xaa\\xbbl\\x84C'\n",
      "Encoded array size: 49\n"
     ]
    }
   ],
   "source": [
    "compressor = LinQuantArrays()\n",
    "arr = np.array([\n",
    "    0.5848807, 0.5846372, 0.22117455, 0.875293, 0.13118872, 0.6605228,\n",
    "    0.51365334, 0.07956224, 0.09270971, 0.424567, 0.3399181, 0.61007863,\n",
    "    0.6623791, 0.41715723, 0.49276868, 0.29014704\n",
    "])\n",
    "print(\"Original array:\", arr)\n",
    "print(\"Arr size:\", sys.getsizeof(arr))\n",
    "\n",
    "result,encoded = compressor.encode(arr, dtype=np.uint8)\n",
    "\n",
    "print(\"Encoded array:\", encoded)\n",
    "print(\"Encoded array size:\", sys.getsizeof(encoded))\n"
   ]
  },
  {
   "cell_type": "code",
   "execution_count": 20,
   "metadata": {},
   "outputs": [
    {
     "data": {
      "text/plain": [
       "[162, 162, 45, 255, 17, 186, 139, 0, 4, 111, 83, 170, 187, 108, 132, 67]"
      ]
     },
     "execution_count": 20,
     "metadata": {},
     "output_type": "execute_result"
    }
   ],
   "source": [
    "result"
   ]
  },
  {
   "cell_type": "code",
   "execution_count": 41,
   "metadata": {},
   "outputs": [
    {
     "ename": "RuntimeError",
     "evalue": "<PyCall.jlwrap (in a Julia function called from Python)\nJULIA: MethodError: no method matching Array(::Type{UInt8}, ::Vector{Int64})\nStacktrace:\n [1] invokelatest(::Any, ::Any, ::Vararg{Any}; kwargs::@Kwargs{})\n   @ Base .\\essentials.jl:892\n [2] invokelatest(::Any, ::Any, ::Vararg{Any})\n   @ Base .\\essentials.jl:889\n [3] _pyjlwrap_call(f::Type, args_::Ptr{PyCall.PyObject_struct}, kw_::Ptr{PyCall.PyObject_struct})\n   @ PyCall C:\\Users\\Asus\\.julia\\packages\\PyCall\\1gn3u\\src\\callback.jl:28\n [4] pyjlwrap_call(self_::Ptr{PyCall.PyObject_struct}, args_::Ptr{PyCall.PyObject_struct}, kw_::Ptr{PyCall.PyObject_struct})\n   @ PyCall C:\\Users\\Asus\\.julia\\packages\\PyCall\\1gn3u\\src\\callback.jl:44>",
     "output_type": "error",
     "traceback": [
      "\u001b[1;31m---------------------------------------------------------------------------\u001b[0m",
      "\u001b[1;31mRuntimeError\u001b[0m                              Traceback (most recent call last)",
      "Cell \u001b[1;32mIn[41], line 1\u001b[0m\n\u001b[1;32m----> 1\u001b[0m decoded \u001b[38;5;241m=\u001b[39m \u001b[43mcompressor\u001b[49m\u001b[38;5;241;43m.\u001b[39;49m\u001b[43mdecode\u001b[49m\u001b[43m(\u001b[49m\u001b[43mencoded\u001b[49m\u001b[43m,\u001b[49m\u001b[43m \u001b[49m\u001b[43mdtype\u001b[49m\u001b[38;5;241;43m=\u001b[39;49m\u001b[43mnp\u001b[49m\u001b[38;5;241;43m.\u001b[39;49m\u001b[43muint8\u001b[49m\u001b[43m,\u001b[49m\u001b[43m \u001b[49m\u001b[43mshape\u001b[49m\u001b[38;5;241;43m=\u001b[39;49m\u001b[43m(\u001b[49m\u001b[38;5;241;43m16\u001b[39;49m\u001b[43m,\u001b[49m\u001b[43m)\u001b[49m\u001b[43m)\u001b[49m\n\u001b[0;32m      2\u001b[0m \u001b[38;5;28mprint\u001b[39m(\u001b[38;5;124m\"\u001b[39m\u001b[38;5;124mDecoded array:\u001b[39m\u001b[38;5;124m\"\u001b[39m, decoded)\n",
      "Cell \u001b[1;32mIn[39], line 71\u001b[0m, in \u001b[0;36mLinQuantArrays.decode\u001b[1;34m(self, data, dtype, shape)\u001b[0m\n\u001b[0;32m     65\u001b[0m dummy_min, dummy_max \u001b[38;5;241m=\u001b[39m \u001b[38;5;241m0.0\u001b[39m, \u001b[38;5;241m1.0\u001b[39m\n\u001b[0;32m     66\u001b[0m \u001b[38;5;66;03m# Main.eval(f\"q_array = LinQuantArray{{{julia_type}, 1}}(reshape({quant_array.tolist()}, {shape}), {dummy_min}, {dummy_max})\")        \u001b[39;00m\n\u001b[0;32m     67\u001b[0m \n\u001b[0;32m     68\u001b[0m \n\u001b[0;32m     69\u001b[0m \n\u001b[0;32m     70\u001b[0m \u001b[38;5;66;03m# # Call the dequantization function\u001b[39;00m\n\u001b[1;32m---> 71\u001b[0m result \u001b[38;5;241m=\u001b[39m \u001b[43mMain\u001b[49m\u001b[38;5;241;43m.\u001b[39;49m\u001b[43mArray\u001b[49m\u001b[43m(\u001b[49m\u001b[43mjulia_type\u001b[49m\u001b[43m,\u001b[49m\u001b[43m \u001b[49m\u001b[43mMain\u001b[49m\u001b[38;5;241;43m.\u001b[39;49m\u001b[43mq_array\u001b[49m\u001b[43m)\u001b[49m\n\u001b[0;32m     72\u001b[0m \u001b[38;5;28;01mreturn\u001b[39;00m result\n",
      "\u001b[1;31mRuntimeError\u001b[0m: <PyCall.jlwrap (in a Julia function called from Python)\nJULIA: MethodError: no method matching Array(::Type{UInt8}, ::Vector{Int64})\nStacktrace:\n [1] invokelatest(::Any, ::Any, ::Vararg{Any}; kwargs::@Kwargs{})\n   @ Base .\\essentials.jl:892\n [2] invokelatest(::Any, ::Any, ::Vararg{Any})\n   @ Base .\\essentials.jl:889\n [3] _pyjlwrap_call(f::Type, args_::Ptr{PyCall.PyObject_struct}, kw_::Ptr{PyCall.PyObject_struct})\n   @ PyCall C:\\Users\\Asus\\.julia\\packages\\PyCall\\1gn3u\\src\\callback.jl:28\n [4] pyjlwrap_call(self_::Ptr{PyCall.PyObject_struct}, args_::Ptr{PyCall.PyObject_struct}, kw_::Ptr{PyCall.PyObject_struct})\n   @ PyCall C:\\Users\\Asus\\.julia\\packages\\PyCall\\1gn3u\\src\\callback.jl:44>"
     ]
    }
   ],
   "source": [
    "decoded = compressor.decode(encoded, dtype=np.uint8, shape=(16,))\n",
    "print(\"Decoded array:\", decoded)"
   ]
  },
  {
   "cell_type": "code",
   "execution_count": 16,
   "metadata": {},
   "outputs": [
    {
     "ename": "ValueError",
     "evalue": "too many values to unpack (expected 3)",
     "output_type": "error",
     "traceback": [
      "\u001b[1;31m---------------------------------------------------------------------------\u001b[0m",
      "\u001b[1;31mValueError\u001b[0m                                Traceback (most recent call last)",
      "Cell \u001b[1;32mIn[16], line 8\u001b[0m\n\u001b[0;32m      1\u001b[0m compressor \u001b[38;5;241m=\u001b[39m LinQuantArrays()\n\u001b[0;32m      2\u001b[0m arr \u001b[38;5;241m=\u001b[39m np\u001b[38;5;241m.\u001b[39marray([\n\u001b[0;32m      3\u001b[0m     \u001b[38;5;241m0.5848807\u001b[39m, \u001b[38;5;241m0.5846372\u001b[39m, \u001b[38;5;241m0.22117455\u001b[39m, \u001b[38;5;241m0.875293\u001b[39m, \u001b[38;5;241m0.13118872\u001b[39m, \u001b[38;5;241m0.6605228\u001b[39m,\n\u001b[0;32m      4\u001b[0m     \u001b[38;5;241m0.51365334\u001b[39m, \u001b[38;5;241m0.07956224\u001b[39m, \u001b[38;5;241m0.09270971\u001b[39m, \u001b[38;5;241m0.424567\u001b[39m, \u001b[38;5;241m0.3399181\u001b[39m, \u001b[38;5;241m0.61007863\u001b[39m,\n\u001b[0;32m      5\u001b[0m     \u001b[38;5;241m0.6623791\u001b[39m, \u001b[38;5;241m0.41715723\u001b[39m, \u001b[38;5;241m0.49276868\u001b[39m, \u001b[38;5;241m0.29014704\u001b[39m\n\u001b[0;32m      6\u001b[0m ])\n\u001b[1;32m----> 8\u001b[0m encoded, min_val, max_val \u001b[38;5;241m=\u001b[39m compressor\u001b[38;5;241m.\u001b[39mencode(arr, dtype\u001b[38;5;241m=\u001b[39mnp\u001b[38;5;241m.\u001b[39muint8)\n\u001b[0;32m      9\u001b[0m \u001b[38;5;28mprint\u001b[39m(\u001b[38;5;124m\"\u001b[39m\u001b[38;5;124mEncoded Data:\u001b[39m\u001b[38;5;124m\"\u001b[39m, encoded)\n\u001b[0;32m     10\u001b[0m \u001b[38;5;28mprint\u001b[39m(\u001b[38;5;124m\"\u001b[39m\u001b[38;5;124mMin Value:\u001b[39m\u001b[38;5;124m\"\u001b[39m, min_val)\n",
      "\u001b[1;31mValueError\u001b[0m: too many values to unpack (expected 3)"
     ]
    }
   ],
   "source": [
    "compressor = LinQuantArrays()\n",
    "arr = np.array([\n",
    "    0.5848807, 0.5846372, 0.22117455, 0.875293, 0.13118872, 0.6605228,\n",
    "    0.51365334, 0.07956224, 0.09270971, 0.424567, 0.3399181, 0.61007863,\n",
    "    0.6623791, 0.41715723, 0.49276868, 0.29014704\n",
    "])\n",
    "\n",
    "encoded, min_val, max_val = compressor.encode(arr, dtype=np.uint8)\n",
    "print(\"Encoded Data:\", encoded)\n",
    "print(\"Min Value:\", min_val)\n",
    "print(\"Max Value:\", max_val)"
   ]
  },
  {
   "cell_type": "code",
   "execution_count": null,
   "metadata": {},
   "outputs": [],
   "source": []
  },
  {
   "cell_type": "code",
   "execution_count": null,
   "metadata": {},
   "outputs": [],
   "source": []
  },
  {
   "cell_type": "code",
   "execution_count": null,
   "metadata": {},
   "outputs": [],
   "source": []
  },
  {
   "cell_type": "code",
   "execution_count": null,
   "metadata": {},
   "outputs": [],
   "source": []
  }
 ],
 "metadata": {
  "kernelspec": {
   "display_name": "Python 3",
   "language": "python",
   "name": "python3"
  },
  "language_info": {
   "codemirror_mode": {
    "name": "ipython",
    "version": 3
   },
   "file_extension": ".py",
   "mimetype": "text/x-python",
   "name": "python",
   "nbconvert_exporter": "python",
   "pygments_lexer": "ipython3",
   "version": "3.10.14"
  }
 },
 "nbformat": 4,
 "nbformat_minor": 2
}
